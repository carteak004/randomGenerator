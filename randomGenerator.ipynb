{
 "cells": [
  {
   "cell_type": "code",
   "execution_count": 19,
   "metadata": {
    "collapsed": false
   },
   "outputs": [
    {
     "name": "stdout",
     "output_type": "stream",
     "text": [
      "10\n",
      "15\n",
      "JdA1lkcbk5\n",
      "HjWXvJ2EV9ZyhPQ\n",
      "7\n",
      "16\n",
      "kCLiHum\n",
      "feK4i5Z4e1pAKUMK\n",
      "18\n",
      "16\n",
      "rvq36OmJHruaW8L6xB\n",
      "pn3thsJn2H5EH20r\n",
      "19\n",
      "13\n",
      "oiecTr4t6mgd7kMNjoi\n",
      "RHpzxm7LhTRXJ\n"
     ]
    }
   ],
   "source": [
    "#This program generates random username and password\n",
    "\n",
    "for x in range(1,5):\n",
    "    userRange = random.randint(6,20) #length of username\n",
    "    #print (userRange)\n",
    "\n",
    "    passRange = random.randint(8,20) #length of password\n",
    "    #print (passRange)\n",
    "\n",
    "    #generate a random username using letters and digits with a length of userRange\n",
    "    randUser = ''.join([random.choice(string.ascii_letters + string.digits) for x in range(userRange)])\n",
    "    print (randUser)\n",
    "\n",
    "    #generate a random password using letters and digits with a length of passRange\n",
    "    randPass = ''.join([random.choice(string.ascii_letters + string.digits) for x in range(passRange)])\n",
    "    print (randPass)"
   ]
  },
  {
   "cell_type": "code",
   "execution_count": null,
   "metadata": {
    "collapsed": true
   },
   "outputs": [],
   "source": []
  }
 ],
 "metadata": {
  "kernelspec": {
   "display_name": "Python 3",
   "language": "python",
   "name": "python3"
  },
  "language_info": {
   "codemirror_mode": {
    "name": "ipython",
    "version": 3
   },
   "file_extension": ".py",
   "mimetype": "text/x-python",
   "name": "python",
   "nbconvert_exporter": "python",
   "pygments_lexer": "ipython3",
   "version": "3.5.1"
  }
 },
 "nbformat": 4,
 "nbformat_minor": 0
}
