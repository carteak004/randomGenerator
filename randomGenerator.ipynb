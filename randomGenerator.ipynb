{
 "cells": [
  {
   "cell_type": "code",
   "execution_count": 19,
   "metadata": {
    "collapsed": false
   },
   "outputs": [
    {
     "name": "stdout",
     "output_type": "stream",
     "text": [
      
     ]
    }
   ],
   "source": [
    "#This program generates random username and password\n",
    "\n",
    "for x in range(1,5):\n",
    "    userRange = random.randint(6,20) #length of username\n",
    "    #print (userRange)\n",
    "\n",
    "    passRange = random.randint(8,20) #length of password\n",
    "    #print (passRange)\n",
    "\n",
    "    #generate a random username using letters and digits with a length of userRange\n",
    "    randUser = ''.join([random.choice(string.ascii_letters + string.digits) for x in range(userRange)])\n",
    "    print (randUser)\n",
    "\n",
    "    #generate a random password using letters and digits with a length of passRange\n",
    "    randPass = ''.join([random.choice(string.ascii_letters + string.digits) for x in range(passRange)])\n",
    "    print (randPass)"
   ]
  }
 ],
 "metadata": {
  "kernelspec": {
   "display_name": "Python 3",
   "language": "python",
   "name": "python3"
  },
  "language_info": {
   "codemirror_mode": {
    "name": "ipython",
    "version": 3
   },
   "file_extension": ".py",
   "mimetype": "text/x-python",
   "name": "python",
   "nbconvert_exporter": "python",
   "pygments_lexer": "ipython3",
   "version": "3.5.1"
  }
 },
 "nbformat": 4,
 "nbformat_minor": 0
}
